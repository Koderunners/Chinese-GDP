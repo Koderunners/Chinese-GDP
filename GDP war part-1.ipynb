{
 "cells": [
  {
   "cell_type": "markdown",
   "metadata": {
    "_uuid": "c8ab42117c9e0f5834ece5d8072dcf09b6242284"
   },
   "source": [
    "# In the early 80's the GDP per capita of China exceeded that of India although both the GDP /capita of both countries has been steadily increasing since their respective indipendence from foriegn powers.\n",
    "\n",
    "# To find : \n",
    "# Why did India lose to China in this aspect?"
   ]
  },
  {
   "cell_type": "markdown",
   "metadata": {
    "_cell_guid": "79c7e3d0-c299-4dcb-8224-4455121ee9b0",
    "_uuid": "d629ff2d2480ee46fbb7e2d37f6b5fab8052498a",
    "collapsed": true
   },
   "source": [
    "Before the 80's India GDP was slightly higher than that of China's. But due to some reasons China grew rapidly after 1980's.\n",
    "Let's see how the GDP per capita of India and China increased during the past years.\n"
   ]
  },
  {
   "cell_type": "code",
   "execution_count": 2,
   "metadata": {
    "_uuid": "9cbf73da38c6510480d2d146b9ec48c21a232076"
   },
   "outputs": [
    {
     "ename": "FileNotFoundError",
     "evalue": "[Errno 2] No such file or directory: '../input'",
     "output_type": "error",
     "traceback": [
      "\u001b[0;31m---------------------------------------------------------------------------\u001b[0m",
      "\u001b[0;31mFileNotFoundError\u001b[0m                         Traceback (most recent call last)",
      "\u001b[0;32m<ipython-input-2-04165106da61>\u001b[0m in \u001b[0;36m<module>\u001b[0;34m()\u001b[0m\n\u001b[1;32m      5\u001b[0m \u001b[0;34m\u001b[0m\u001b[0m\n\u001b[1;32m      6\u001b[0m \u001b[0;32mimport\u001b[0m \u001b[0mos\u001b[0m\u001b[0;34m\u001b[0m\u001b[0m\n\u001b[0;32m----> 7\u001b[0;31m \u001b[0mprint\u001b[0m\u001b[0;34m(\u001b[0m\u001b[0mos\u001b[0m\u001b[0;34m.\u001b[0m\u001b[0mlistdir\u001b[0m\u001b[0;34m(\u001b[0m\u001b[0;34m\"../input\"\u001b[0m\u001b[0;34m)\u001b[0m\u001b[0;34m)\u001b[0m\u001b[0;34m\u001b[0m\u001b[0m\n\u001b[0m",
      "\u001b[0;31mFileNotFoundError\u001b[0m: [Errno 2] No such file or directory: '../input'"
     ]
    }
   ],
   "source": [
    "#importing libraries\n",
    "import pandas as pd\n",
    "import matplotlib.pyplot as plt\n",
    "%matplotlib inline\n",
    "\n",
    "import os\n",
    "print(os.listdir(\"../input\"))"
   ]
  },
  {
   "cell_type": "code",
   "execution_count": null,
   "metadata": {
    "_uuid": "07804d6d726bb8bfc3aad8239648bec0b2ee72ae",
    "collapsed": true
   },
   "outputs": [],
   "source": [
    "#Loading our data.\n",
    "data_ind=pd.read_csv('../input/india_gdp.csv')\n",
    "data_ch=pd.read_csv('../input/china_gdp.csv')"
   ]
  },
  {
   "cell_type": "code",
   "execution_count": null,
   "metadata": {
    "_uuid": "80c5ab39bc16eba726a6da75f62c851a643abf7c",
    "collapsed": true
   },
   "outputs": [],
   "source": [
    "data_ind.head()"
   ]
  },
  {
   "cell_type": "code",
   "execution_count": null,
   "metadata": {
    "_uuid": "31e8568b4439cfc62bf222cae0bc92f9f9de2df2",
    "collapsed": true
   },
   "outputs": [],
   "source": [
    "data_ch.head()"
   ]
  },
  {
   "cell_type": "code",
   "execution_count": 1,
   "metadata": {
    "_uuid": "545bfea131240af754abf41e0621b954e522aed3"
   },
   "outputs": [
    {
     "ename": "NameError",
     "evalue": "name 'plt' is not defined",
     "output_type": "error",
     "traceback": [
      "\u001b[0;31m---------------------------------------------------------------------------\u001b[0m",
      "\u001b[0;31mNameError\u001b[0m                                 Traceback (most recent call last)",
      "\u001b[0;32m<ipython-input-1-e0d2bb305345>\u001b[0m in \u001b[0;36m<module>\u001b[0;34m()\u001b[0m\n\u001b[1;32m      1\u001b[0m \u001b[0;31m#Visualizing our 2 datasets.\u001b[0m\u001b[0;34m\u001b[0m\u001b[0;34m\u001b[0m\u001b[0m\n\u001b[0;32m----> 2\u001b[0;31m \u001b[0mplt\u001b[0m\u001b[0;34m.\u001b[0m\u001b[0mplot\u001b[0m\u001b[0;34m(\u001b[0m\u001b[0mdata_ind\u001b[0m\u001b[0;34m[\u001b[0m\u001b[0;34m'year'\u001b[0m\u001b[0;34m]\u001b[0m\u001b[0;34m,\u001b[0m\u001b[0mdata_ind\u001b[0m\u001b[0;34m[\u001b[0m\u001b[0;34m'GdpPerCapita'\u001b[0m\u001b[0;34m]\u001b[0m\u001b[0;34m,\u001b[0m\u001b[0mcolor\u001b[0m\u001b[0;34m=\u001b[0m\u001b[0;34m\"blue\"\u001b[0m\u001b[0;34m,\u001b[0m\u001b[0mlabel\u001b[0m\u001b[0;34m=\u001b[0m\u001b[0;34m\"India\"\u001b[0m\u001b[0;34m)\u001b[0m\u001b[0;34m\u001b[0m\u001b[0m\n\u001b[0m\u001b[1;32m      3\u001b[0m \u001b[0mplt\u001b[0m\u001b[0;34m.\u001b[0m\u001b[0mplot\u001b[0m\u001b[0;34m(\u001b[0m\u001b[0mdata_ch\u001b[0m\u001b[0;34m[\u001b[0m\u001b[0;34m'year'\u001b[0m\u001b[0;34m]\u001b[0m\u001b[0;34m,\u001b[0m\u001b[0mdata_ch\u001b[0m\u001b[0;34m[\u001b[0m\u001b[0;34m'GdpPerCapita'\u001b[0m\u001b[0;34m]\u001b[0m\u001b[0;34m,\u001b[0m\u001b[0mcolor\u001b[0m\u001b[0;34m=\u001b[0m\u001b[0;34m\"orange\"\u001b[0m\u001b[0;34m,\u001b[0m\u001b[0mlabel\u001b[0m\u001b[0;34m=\u001b[0m\u001b[0;34m\"China\"\u001b[0m\u001b[0;34m)\u001b[0m\u001b[0;34m\u001b[0m\u001b[0m\n\u001b[1;32m      4\u001b[0m \u001b[0mplt\u001b[0m\u001b[0;34m.\u001b[0m\u001b[0mxlabel\u001b[0m\u001b[0;34m(\u001b[0m\u001b[0;34m\"year\"\u001b[0m\u001b[0;34m)\u001b[0m\u001b[0;34m\u001b[0m\u001b[0m\n\u001b[1;32m      5\u001b[0m \u001b[0mplt\u001b[0m\u001b[0;34m.\u001b[0m\u001b[0mylabel\u001b[0m\u001b[0;34m(\u001b[0m\u001b[0;34m\"value\"\u001b[0m\u001b[0;34m)\u001b[0m\u001b[0;34m\u001b[0m\u001b[0m\n",
      "\u001b[0;31mNameError\u001b[0m: name 'plt' is not defined"
     ]
    }
   ],
   "source": [
    "#Visualizing our 2 datasets.\n",
    "plt.plot(data_ind['year'],data_ind['GdpPerCapita'],color=\"blue\",label=\"India\")\n",
    "plt.plot(data_ch['year'],data_ch['GdpPerCapita'],color=\"orange\",label=\"China\")\n",
    "plt.xlabel(\"year\")\n",
    "plt.ylabel(\"value\")\n",
    "plt.title(\"INDIA VS. CHINA IN TERMS OF GDP\")\n",
    "plt.legend()\n",
    "plt.show()"
   ]
  },
  {
   "cell_type": "markdown",
   "metadata": {
    "_kg_hide-input": false,
    "_kg_hide-output": false,
    "_uuid": "210a10af39e156e5a149f91fdbe5ee9383f39731"
   },
   "source": [
    "As we can see between the 1980's and 1990's , both country's GDP were almost same . But after 1990 China's GDP grew tremendously while India's\n",
    "GDP grew very slowly .What happened in those years that helped China overthrow India's GDP? what were the factors that helped China to grow at a prosperous rate?\n",
    "\n",
    "**Let's discuss about the factors that helped China to grow :-\n",
    "**\n",
    "# 1> Political stability\n",
    "     India is a democratic country and every decision taken in a democratic government takes a lot of time to get into effect ,i.e. due to corruption or politicallaziness or due to time taken to make the decsion ,a huge amount of time is used up to take a single decision therefore slowing the country's progress.Whereas in China , people are sensitive to the term growth. Decision making process takes very less time thus speeding up the growth rate.\n",
    "\n",
    "# 2> Quality and quantity of labourers \n",
    "      Here the quantity part might me arguable as both the country had about same quantity of workforce. But in quality India trails China in a huge margin. India's litracy rate is and was one of the lowest when compared to other countries. Also its population health, life expectancy, infant imortality rate were very low .Many facors like litracy rate, amount of labourforce, life expectancy etc. which are held in account for per capita income were very low in case of India. Thus, pulling down the country in terms of growth.\n",
    "\n",
    "\n",
    "# 3> Vision towards technological growth\n",
    "      China absorbed the statergy of local people's empowerment. They started helping their people gain technological extertise by insisting foriegn companies to share their expertise with the local workers.China focused on improving the skills of its labourforce which helped it gain a higher per capita income.\n",
    "\n",
    "# 4> Brain drain\n",
    "       India continues it's trend of being the top country of birth for immigrant scientists and engineers. Corruption and Government are destroying most of the finest talents of our country. Due to the tax policies , technological gap , better opportunity, higher salary and other factors  are the reasons for the brain drain.        Whereas in China , government is providing handsome packages and good opportunities for the graduates who have done higher studies abroad and also for immigrant and foriegn graduates. These graduates will help in development of country.\n",
    "       "
   ]
  },
  {
   "cell_type": "markdown",
   "metadata": {
    "_uuid": "1bde39dd727853475b30231d81084d9a85daeb59"
   },
   "source": [
    "In the second part we will find when in the future will India exceed China in this matter.\n",
    "\n",
    "**Happy  Learning**"
   ]
  },
  {
   "cell_type": "markdown",
   "metadata": {
    "_uuid": "ea44904c25e8fa3cf5db9c530bacd9c8a569182f"
   },
   "source": [
    "# Biblography\n",
    "* https://pkgstore.datahub.io/core/population/population_csv/data/ead5be05591360d33ad1a37382f8f8b1/population_csv.csv\n",
    "*  https://github.com/datasets/gdp/blob/master/data/gdp.csv"
   ]
  }
 ],
 "metadata": {
  "kernelspec": {
   "display_name": "Python 3",
   "language": "python",
   "name": "python3"
  },
  "language_info": {
   "codemirror_mode": {
    "name": "ipython",
    "version": 3
   },
   "file_extension": ".py",
   "mimetype": "text/x-python",
   "name": "python",
   "nbconvert_exporter": "python",
   "pygments_lexer": "ipython3",
   "version": "3.5.4"
  }
 },
 "nbformat": 4,
 "nbformat_minor": 1
}
