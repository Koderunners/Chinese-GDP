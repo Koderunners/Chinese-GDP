{
 "cells": [
  {
   "cell_type": "markdown",
   "metadata": {
    "_uuid": "7b0d7cefb3ab90a59dfb653344962aacddaab1dd"
   },
   "source": [
    "# In the early 80's the GDP per capita of China exceeded that of India although both the GDP /capita of both countries has been steadily increasing since their respective indipendence from foriegn powers.\n",
    "\n",
    "# To find : \n",
    "# When in future will India exceed China in this matter?"
   ]
  },
  {
   "cell_type": "markdown",
   "metadata": {
    "_uuid": "22917d6fedfc4d9fcc698037fae254f89dc83d27"
   },
   "source": [
    "In the previous part we discussed about why did India lose to China in terms of GDP per capita. In this part we will discuss about when and how can India exceed China in this matter.\n",
    "Lets get started by importing the libraries requaired for it."
   ]
  },
  {
   "cell_type": "code",
   "execution_count": null,
   "metadata": {
    "_cell_guid": "b1076dfc-b9ad-4769-8c92-a6c4dae69d19",
    "_uuid": "8f2839f25d086af736a60e9eeb907d3b93b6e0e5",
    "collapsed": true
   },
   "outputs": [],
   "source": [
    "#Importing the necessary libraries\n",
    "import pandas as pd\n",
    "import matplotlib.pyplot as plt\n",
    "from sklearn.linear_model import LinearRegression\n",
    "from sklearn.preprocessing import PolynomialFeatures\n",
    "\n",
    "#Displaying the path\n",
    "import os\n",
    "print(os.listdir(\"../input\"))"
   ]
  },
  {
   "cell_type": "code",
   "execution_count": null,
   "metadata": {
    "_uuid": "9b516e5caa364110cebd77a709a1d9980cc64a1f",
    "collapsed": true
   },
   "outputs": [],
   "source": [
    "#reading datasets for India\n",
    "data_ind=pd.read_csv(\"../input/gdppercapita2/india_gdp.csv\")\n",
    "ix=data_ind.iloc[:,3:7].values\n",
    "iy=data_ind.iloc[:,7:8].values\n",
    "data_ind.head()"
   ]
  },
  {
   "cell_type": "code",
   "execution_count": null,
   "metadata": {
    "_uuid": "4dfb8b2bf1df002e98c1e19b62c64d2f6cc5502d",
    "collapsed": true
   },
   "outputs": [],
   "source": [
    "#Reading datasets for China\n",
    "data_ch=pd.read_csv(\"../input/gdppercapita2/china_gdp.csv\")\n",
    "cx=data_ch.iloc[:,3:7].values\n",
    "cy=data_ch.iloc[:,7:8].values\n",
    "data_ch.head()"
   ]
  },
  {
   "cell_type": "markdown",
   "metadata": {
    "_cell_guid": "79c7e3d0-c299-4dcb-8224-4455121ee9b0",
    "_uuid": "d629ff2d2480ee46fbb7e2d37f6b5fab8052498a",
    "collapsed": true
   },
   "source": [
    "# The factors afffecting the GDP per capita of a country are :-\n",
    "# 1> Population quality\n",
    "     This includes citizen's health and education levels. In both the criteria, India has to work harder to compete with China, A population health determines what the labourforce is capable of.\n",
    "      \n",
    " # 2>Political stability\n",
    "     Political Instability in government scares away a large quantity of investors who want to invest   in the country's progression, but due to uncertainity of fruitfull returns, they pull out their    money and try to seek for higher returns. A goverment should be capable of gainng trust from the investors if it wants to grow heavily. Indian government is very unstable in compared to China's . A huge amount of investments are lost due to this reason.\n",
    "       \n",
    " # 3>Religion  stability\n",
    "     India is fighting internally everyday on what things to eat, things to allow and which religion to follow. While in other hand, China is focused on its citizen's development and making policies for its economic growth.\n",
    "       \n",
    " #  4>Infrastructure\n",
    "     Increased investment in physical capital such as factories, machinery, and roads will lower the cost of economic activity. Better factories and machinery are more productive than physical labor. India's labourforce is highly unskilled and is not capable of producing enough income. Investing  in building more roads, hospitals, schools and ivesting in factories will help the country to boost its econony. An increase in investment in human capital an improve the quality of the labor force. This would result in an improvement of skills, abilities, and training. A skilled labor force has a significant effect on growth since skilled workers are more         productive.\n",
    " # 5>Technology          \n",
    "     Another influential factor is the improvement of technology. Technology could increase productivity with the same levels of labor, thus accelerating growth and development. This means factories can be more productive at lower costs. Technology is most likely to lead to sustained long-run growth."
   ]
  },
  {
   "cell_type": "code",
   "execution_count": null,
   "metadata": {
    "_uuid": "89c8d606c1554040ac857af3451683ee5e3daf69",
    "collapsed": true
   },
   "outputs": [],
   "source": [
    "#Making models of each country\n",
    "i_lin_reg=LinearRegression()\n",
    "i_poly_reg=PolynomialFeatures(degree=4)\n",
    "i_x_poly=i_poly_reg.fit_transform(ix)\n",
    "i_lin_reg.fit(i_x_poly,iy)\n",
    "i_poly_reg.fit(i_x_poly,iy)\n",
    "\n",
    "c_lin_reg=LinearRegression()\n",
    "c_poly_reg=PolynomialFeatures(degree=4)\n",
    "c_x_poly=i_poly_reg.fit_transform(cx)\n",
    "c_lin_reg.fit(c_x_poly,cy)\n",
    "c_poly_reg.fit(c_x_poly,cy)"
   ]
  },
  {
   "cell_type": "code",
   "execution_count": null,
   "metadata": {
    "_uuid": "f79fe719f64f441192480d2fe0c6ebf385e5fd0b",
    "collapsed": true
   },
   "outputs": [],
   "source": [
    "#Plotting the graph\n",
    "plt.plot(data_ind['year'],i_lin_reg.predict(i_poly_reg.fit_transform(ix)),color=\"blue\")\n",
    "plt.plot(data_ch['year'],c_lin_reg.predict(c_poly_reg.fit_transform(cx)),color=\"orange\")\n",
    "\n",
    "#Reading the tweaked data of India and ploting it\n",
    "data_test_ind=pd.read_csv(\"../input/test-ind-ch/test.csv\")\n",
    "xa=data_test_ind.iloc[:,0:4].values\n",
    "xy=data_test_ind.iloc[:,0:1].values\n",
    "plt.scatter(xy,i_lin_reg.predict(i_poly_reg.fit_transform(xa)),color=\"blue\")\n",
    "\n",
    "#Reading the tweaked data of China and ploting it\n",
    "data_test_ch=pd.read_csv(\"../input/test-ind-ch/test_ch.csv\")\n",
    "xb=data_test_ch.iloc[:,0:4].values\n",
    "xz=data_test_ch.iloc[:,0:1].values\n",
    "plt.scatter(xz,c_lin_reg.predict(c_poly_reg.fit_transform(xb)),color=\"orange\")\n",
    "\n",
    "plt.show()"
   ]
  },
  {
   "cell_type": "markdown",
   "metadata": {
    "_uuid": "fa49da776d7a8d1dff8049793e11d6d996a98a29"
   },
   "source": [
    "Here we mainly focus on GDP value, Population quantity and Population growth % as the factors of GDP per capita . We tweak some values according to the previous data to make some predictions.\n",
    "Here if India grows with favourable values of the above facotors and China grows with some limited values. Then we would get a graph like this stating that **India will be at par with China during the 2060's**."
   ]
  },
  {
   "cell_type": "markdown",
   "metadata": {
    "_uuid": "23c8ca55406c5f5be886738e9ad341da69820eb2"
   },
   "source": [
    "# Biblography\n",
    "*  For India :-    https://data.worldbank.org/country/india?view=chart\n",
    "*  For China :-   https://data.worldbank.org/country/china?view=chart"
   ]
  }
 ],
 "metadata": {
  "kernelspec": {
   "display_name": "Python 3",
   "language": "python",
   "name": "python3"
  },
  "language_info": {
   "codemirror_mode": {
    "name": "ipython",
    "version": 3
   },
   "file_extension": ".py",
   "mimetype": "text/x-python",
   "name": "python",
   "nbconvert_exporter": "python",
   "pygments_lexer": "ipython3",
   "version": "3.5.4"
  }
 },
 "nbformat": 4,
 "nbformat_minor": 1
}
